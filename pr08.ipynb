{
 "cells": [
  {
   "cell_type": "markdown",
   "id": "9b1a6f4c-f403-48f0-87fc-96b4017a5a69",
   "metadata": {},
   "source": [
    "# B1"
   ]
  },
  {
   "cell_type": "code",
   "execution_count": 3,
   "id": "1c8b179a-0ea3-4038-903f-d4ada3406b94",
   "metadata": {},
   "outputs": [
    {
     "name": "stdout",
     "output_type": "stream",
     "text": [
      "13.8 μs ± 390 ns per loop (mean ± std. dev. of 7 runs, 100,000 loops each)\n",
      "462 μs ± 68.5 μs per loop (mean ± std. dev. of 7 runs, 1,000 loops each)\n"
     ]
    },
    {
     "data": {
      "text/plain": [
       "True"
      ]
     },
     "execution_count": 3,
     "metadata": {},
     "output_type": "execute_result"
    }
   ],
   "source": [
    "import numpy as np\n",
    "n = 512\n",
    "# Our input function is just random numbers\n",
    "f = np.random.rand(n)\n",
    "\n",
    "# Time the NumPy (Cooley-Tukey) DFT algorithm\n",
    "%timeit np.fft.fft(f)\n",
    "# 100000 loops, best of 3: 13.1 us per loop\n",
    "\n",
    "# Now calculate the DFT by direct summation\n",
    "k = np.arange(n)\n",
    "m = k.reshape((n, 1))\n",
    "w = np.exp(-2j * np.pi * m * k / n)\n",
    "%timeit np.dot(w, f)\n",
    "# 1000 loops, best of 3: 354 us per loop\n",
    "\n",
    "# Check the two methods produce the same result\n",
    "ftfast = np.fft.fft(f)\n",
    "ftslow = np.dot(w, f)\n",
    "np.allclose(ftfast, ftslow)"
   ]
  }
 ],
 "metadata": {
  "kernelspec": {
   "display_name": "Python 3 (ipykernel)",
   "language": "python",
   "name": "python3"
  },
  "language_info": {
   "codemirror_mode": {
    "name": "ipython",
    "version": 3
   },
   "file_extension": ".py",
   "mimetype": "text/x-python",
   "name": "python",
   "nbconvert_exporter": "python",
   "pygments_lexer": "ipython3",
   "version": "3.12.7"
  }
 },
 "nbformat": 4,
 "nbformat_minor": 5
}
