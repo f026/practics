{
 "cells": [
  {
   "cell_type": "markdown",
   "id": "1c90c60e-199f-480b-8d8d-9f0b1902c9f7",
   "metadata": {},
   "source": [
    "# практичеcкая работа №1"
   ]
  },
  {
   "cell_type": "markdown",
   "id": "3bf32efb-a32e-4976-b754-ce7c0adfba00",
   "metadata": {},
   "source": [
    "# B1"
   ]
  },
  {
   "cell_type": "code",
   "execution_count": 7,
   "id": "9cd4b6b4-80a9-4caa-9f21-352f2362b435",
   "metadata": {},
   "outputs": [
    {
     "name": "stdout",
     "output_type": "stream",
     "text": [
      "[0.0, 0.5, 1.0, 2.0, 1.5, 0.5]\n"
     ]
    }
   ],
   "source": [
    "def normalize_list(a):\n",
    "    if not a:\n",
    "        return []\n",
    "\n",
    "    min_value = min(a)\n",
    "    max_value = max(a)\n",
    "\n",
    "    if min_value == max_value:\n",
    "        return [1.0] * len(a)\n",
    "        \n",
    "    normalized = [2 * (value - min_value) / (max_value - min_value) for value in a]\n",
    "    return normalized\n",
    "a = [2,4,6,10,8,4]\n",
    "normalized_a = normalize_list(a)\n",
    "print(normalized_a)"
   ]
  },
  {
   "cell_type": "markdown",
   "id": "027a54f9-742f-4dba-aaa1-831a7ea15210",
   "metadata": {},
   "source": [
    "# B2"
   ]
  },
  {
   "cell_type": "code",
   "execution_count": 2,
   "id": "404d74e1-b14a-454c-aac5-f532159e9d20",
   "metadata": {},
   "outputs": [
    {
     "name": "stdout",
     "output_type": "stream",
     "text": [
      "G=0.82842712474619\n",
      "G=0.83461519927773\n",
      "G=0.83462684163347\n",
      "G=0.83462684167407\n"
     ]
    }
   ],
   "source": [
    "import math\n",
    "tol = 1.e-14\n",
    "an,bn = 1.,math.sqrt(2)\n",
    "while abs(an-bn)>tol:\n",
    "    an,bn=(an+bn)/2,math.sqrt(an*bn)\n",
    "    print('G={:.14f}'.format(1/an))"
   ]
  },
  {
   "cell_type": "markdown",
   "id": "32fe4852-81d7-4114-a784-869136cc7b94",
   "metadata": {},
   "source": [
    "# B3"
   ]
  },
  {
   "cell_type": "code",
   "execution_count": 11,
   "id": "4b81a629-7a17-4a7c-a1d1-0ffc2de782d8",
   "metadata": {
    "scrolled": true
   },
   "outputs": [
    {
     "name": "stdout",
     "output_type": "stream",
     "text": [
      "1\n",
      "2\n",
      "fizz\n",
      "4\n",
      "buzz\n",
      "fizz\n",
      "7\n",
      "8\n",
      "fizz\n",
      "buzz\n",
      "11\n",
      "fizz\n",
      "13\n",
      "14\n",
      "fizzbuzz\n",
      "16\n",
      "17\n",
      "fizz\n",
      "19\n",
      "buzz\n",
      "fizz\n",
      "22\n",
      "23\n",
      "fizz\n",
      "buzz\n",
      "26\n",
      "fizz\n",
      "28\n",
      "29\n",
      "fizzbuzz\n",
      "31\n",
      "32\n",
      "fizz\n",
      "34\n",
      "buzz\n",
      "fizz\n",
      "37\n",
      "38\n",
      "fizz\n",
      "buzz\n",
      "41\n",
      "fizz\n",
      "43\n",
      "44\n",
      "fizzbuzz\n",
      "46\n",
      "47\n",
      "fizz\n",
      "49\n",
      "buzz\n",
      "fizz\n",
      "52\n",
      "53\n",
      "fizz\n",
      "buzz\n",
      "56\n",
      "fizz\n",
      "58\n",
      "59\n",
      "fizzbuzz\n",
      "61\n",
      "62\n",
      "fizz\n",
      "64\n",
      "buzz\n",
      "fizz\n",
      "67\n",
      "68\n",
      "fizz\n",
      "buzz\n",
      "71\n",
      "fizz\n",
      "73\n",
      "74\n",
      "fizzbuzz\n",
      "76\n",
      "77\n",
      "fizz\n",
      "79\n",
      "buzz\n",
      "fizz\n",
      "82\n",
      "83\n",
      "fizz\n",
      "buzz\n",
      "86\n",
      "fizz\n",
      "88\n",
      "89\n",
      "fizzbuzz\n",
      "91\n",
      "92\n",
      "fizz\n",
      "94\n",
      "buzz\n",
      "fizz\n",
      "97\n",
      "98\n",
      "fizz\n"
     ]
    }
   ],
   "source": [
    "for i in range(1,100):\n",
    "    score=''\n",
    "    if not i%3:\n",
    "        score = 'fizz'\n",
    "    if not i%5:\n",
    "        score+='buzz'\n",
    "    print(score or i)"
   ]
  },
  {
   "cell_type": "markdown",
   "id": "261f6445-ade9-4653-8936-9ffb67ac21cd",
   "metadata": {},
   "source": [
    "# B4"
   ]
  },
  {
   "cell_type": "code",
   "execution_count": 13,
   "id": "76ddf42e-7291-4a10-9954-f7842940444c",
   "metadata": {},
   "outputs": [],
   "source": [
    "stoich = \"C8H18\"\n",
    "fragments =  stoich.split('H')\n",
    "nC = int(fragments[0][1:])\n"
   ]
  },
  {
   "cell_type": "code",
   "execution_count": 14,
   "id": "a2d80877-c6ec-4daf-b964-a601541e4bbc",
   "metadata": {},
   "outputs": [],
   "source": [
    "nH = int(fragments[1])"
   ]
  },
  {
   "cell_type": "code",
   "execution_count": 16,
   "id": "43a73883-1cc0-45fb-a599-b7ab0166c9e0",
   "metadata": {},
   "outputs": [
    {
     "name": "stdout",
     "output_type": "stream",
     "text": [
      "H3C-CH2-CH2-CH2-CH2-CH2-CH2-CH3\n"
     ]
    }
   ],
   "source": [
    "if nH != 2*nC+2:\n",
    "    print('{}is not an alkane'.format(stoich))\n",
    "else:\n",
    "    print('H3C',end='')\n",
    "    for i in range(nC-2):\n",
    "        print('-CH2',end='')\n",
    "    print('-CH3')"
   ]
  }
 ],
 "metadata": {
  "kernelspec": {
   "display_name": "Python 3 (ipykernel)",
   "language": "python",
   "name": "python3"
  },
  "language_info": {
   "codemirror_mode": {
    "name": "ipython",
    "version": 3
   },
   "file_extension": ".py",
   "mimetype": "text/x-python",
   "name": "python",
   "nbconvert_exporter": "python",
   "pygments_lexer": "ipython3",
   "version": "3.12.7"
  }
 },
 "nbformat": 4,
 "nbformat_minor": 5
}
